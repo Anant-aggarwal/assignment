{
 "cells": [
  {
   "cell_type": "code",
   "execution_count": null,
   "id": "e2ba036e-e404-4d1b-b3eb-837f21e49401",
   "metadata": {},
   "outputs": [],
   "source": [
    "answer 1.: Guido Van Russom is the developer of python programming language.\n",
    "answer 2. Python is dynamically typed and garbage-collected. It supports multiple programming paradigms,including structured (particularly\n",
    "procedural),object-oriented and functional programming.\n",
    "answer 3.Yes.\n",
    "answer 4.py is the extension of python file.\n",
    "answer 5.Python is interpreted language.\n",
    "answer 6.few blocks are:\n",
    "         a module ,a function body and a class definition\n",
    "answer 7.'#' character is used to write comments.\n",
    "answer 8. sys.version() can help us to find the version of python on which we are currently working on.\n",
    "answer 9. lambda.\n",
    "answer 10. PIP stands for preffered installer program.\n",
    "answer 11.Some in built functions are:\n",
    "    type(): returns the data type of the variable.\n",
    "    print():prints the desired text.\n",
    "    input():asks user for his choice of input\n",
    "    range()returns a sequence of numbers.\n",
    "answer 12. an identifer can have a maximum length of 79 characters.\n",
    "answer 13. There are many benefits to using Python as a programming language, some of the most notable include:\n",
    "\n",
    "Easy to learn and use: Python has a simple and intuitive syntax, which makes it easy for beginners to pick up.\n",
    "\n",
    "Versatile: Python can be used for a wide range of tasks, including web development, scientific computing, data analysis,\n",
    "artificial intelligence, and more.\n",
    "\n",
    "Large and supportive community: Python has a large and active community of users and developers, which provides support,\n",
    "tutorials, and libraries to help you get started.\n",
    "\n",
    "Plenty of libraries and frameworks: Python has a vast collection of libraries and frameworks that can be used to extend its \n",
    "functionality and speed up development.\n",
    "\n",
    "Cross-platform compatibility: Python can run on multiple platforms, including Windows, macOS, and Linux, which makes it a\n",
    "good choice for developing cross-platform applications.\n",
    "\n",
    "Dynamic typing: In Python, you dont have to specify the data type of a variable, making it easier to write and maintain your code.\n",
    "\n",
    "Good for prototyping: Python is fast development cycle and ease of use make it a great choice for prototyping new ideas and applications.\n",
    "answer 14. Memory management in python involves a private heap containing all python objects and data structures.The management of this \n",
    "private heap is ensured internally by the python memory manager.\n",
    "answer 15.Go to your Start menu (lower left Windows icon), type \"Microsoft Store\", select the link to open the store. Once the store is \n",
    "open, select Search from the upper-right menu and enter \"Python\". Select which version of Python you would like to use from the results \n",
    "under Apps.\n",
    "answer 16.yes identation is required in python."
   ]
  }
 ],
 "metadata": {
  "kernelspec": {
   "display_name": "Python 3 (ipykernel)",
   "language": "python",
   "name": "python3"
  },
  "language_info": {
   "codemirror_mode": {
    "name": "ipython",
    "version": 3
   },
   "file_extension": ".py",
   "mimetype": "text/x-python",
   "name": "python",
   "nbconvert_exporter": "python",
   "pygments_lexer": "ipython3",
   "version": "3.10.6"
  }
 },
 "nbformat": 4,
 "nbformat_minor": 5
}
